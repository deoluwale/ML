{
 "cells": [
  {
   "cell_type": "markdown",
   "metadata": {},
   "source": [
    "## Assignment 3"
   ]
  },
  {
   "cell_type": "markdown",
   "metadata": {},
   "source": [
    "## Task 1\n"
   ]
  },
  {
   "cell_type": "code",
   "execution_count": 1,
   "metadata": {},
   "outputs": [
    {
     "data": {
      "text/plain": [
       "57"
      ]
     },
     "execution_count": 1,
     "metadata": {},
     "output_type": "execute_result"
    }
   ],
   "source": [
    "##1.1\n",
    "##Write a Python Program to implement your own myreduce() function which works exactly like\n",
    "##Python's built-in function reduce()\n",
    "def my_reduce(function, sequence):\n",
    "    \"\"\"a function working as the python in-built reduce function\"\"\"\n",
    "    start = sequence[0]  ##take the first element in the sequence\n",
    "    for i in sequence[1:]:          ## iterate over the remainder of the elements in the sequence\n",
    "        start = function(start, i)\n",
    "    return start                    ##now we return the start \n",
    "\n",
    "sequence = [2,3,4,5,6,7,10,20]\n",
    "my_reduce(lambda x,y:x+y, sequence)"
   ]
  },
  {
   "cell_type": "code",
   "execution_count": 2,
   "metadata": {},
   "outputs": [
    {
     "name": "stdout",
     "output_type": "stream",
     "text": [
      "2\n",
      "4\n",
      "6\n",
      "8\n",
      "10\n",
      "12\n",
      "14\n"
     ]
    }
   ],
   "source": [
    "##1.2\n",
    "# function that filters numbers\n",
    "def filter_even(number):\n",
    "        if number % 2 == 0:\n",
    "            return True\n",
    "        else:\n",
    "            return False\n",
    "##Write a Python program to implement your own myfilter() function which works exactly like\n",
    "##Python's built-in function filter()\n",
    "def my_filter(function, sequence):\n",
    "    \"\"\"a function working as the python in-built reduce function\"\"\"\n",
    "    for i in sequence:\n",
    "        if function(i) == True:\n",
    "            print (i)\n",
    "\n",
    "numbers = [2,3,4,5,6,7,8,9,10,11,12,13,14,15,101]        \n",
    "my_filter(filter_even,numbers)"
   ]
  },
  {
   "cell_type": "markdown",
   "metadata": {},
   "source": [
    "## Task 2"
   ]
  },
  {
   "cell_type": "code",
   "execution_count": 3,
   "metadata": {},
   "outputs": [
    {
     "name": "stdout",
     "output_type": "stream",
     "text": [
      "['x', 'xx', 'xxx', 'xxxx', 'y', 'yy', 'yyy', 'yyyy', 'z', 'zz', 'zzz', 'zzzz']\n",
      "['x', 'y', 'z', 'xx', 'yy', 'zz', 'xxx', 'yyy', 'zzz', 'xxxx', 'yyyy', 'zzzz']\n",
      "[[2], [3], [4], [3], [4], [5], [4], [5], [6]]\n",
      "[[2, 3, 4, 5], [3, 4, 5, 6], [4, 5, 6, 7], [5, 6, 7, 8]]\n",
      "[(1, 1), (2, 1), (3, 1), (1, 2), (2, 2), (3, 2), (1, 3), (2, 3), (3, 3)]\n"
     ]
    }
   ],
   "source": [
    "##2\n",
    "##Implement List comprehensions to produce the following lists. \n",
    "##Write List comprehensions to produce the following Lists \n",
    "xyz_1 = [ i*j for i in ['x','y','z'] for j in range(1,5)]\n",
    "print(xyz_1)\n",
    "xyz_2 = [ j*i for i in range(1,5) for j in ['x','y','z']]\n",
    "print(xyz_2)\n",
    "magic_list1 = [[i+j] for i in [2,3,4] for j in range(0,3)]\n",
    "print(magic_list1)\n",
    "magic_list2 = [[i+j for i in range(0,4)] for j in [2,3,4,5]]\n",
    "print(magic_list2)\n",
    "magic_list3 = [(j,i) for i in (1,2,3) for j in (1,2,3)]\n",
    "print(magic_list3)"
   ]
  },
  {
   "cell_type": "code",
   "execution_count": null,
   "metadata": {},
   "outputs": [],
   "source": []
  }
 ],
 "metadata": {
  "kernelspec": {
   "display_name": "Python 3",
   "language": "python",
   "name": "python3"
  },
  "language_info": {
   "codemirror_mode": {
    "name": "ipython",
    "version": 3
   },
   "file_extension": ".py",
   "mimetype": "text/x-python",
   "name": "python",
   "nbconvert_exporter": "python",
   "pygments_lexer": "ipython3",
   "version": "3.7.6"
  }
 },
 "nbformat": 4,
 "nbformat_minor": 4
}
