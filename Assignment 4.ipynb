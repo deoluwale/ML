{
 "cells": [
  {
   "cell_type": "markdown",
   "metadata": {},
   "source": [
    "## Assignment 4"
   ]
  },
  {
   "cell_type": "markdown",
   "metadata": {},
   "source": [
    "## Task 1"
   ]
  },
  {
   "cell_type": "code",
   "execution_count": 1,
   "metadata": {},
   "outputs": [
    {
     "name": "stdout",
     "output_type": "stream",
     "text": [
      "\n",
      "please enter the side a: 5\n",
      "please enter the side b: 6\n",
      "please enter the side c: 7\n",
      "\n",
      "please enter the side a: 6\n",
      "please enter the side b: 7\n",
      "please enter the side c: 8\n",
      "\n",
      "In sqaured-cm, the area of the triangle is 14.70\n",
      "\n",
      "In sqaured-cm, the area of the triangle is 20.33\n"
     ]
    }
   ],
   "source": [
    "##1.1\n",
    "##Write a Python Program(with class concepts) to find the area of the triangle using the below formula.\n",
    "##area = (s*(s-a)*(s-b)*(s-c)) ** 0.5\n",
    "##Function to take the length of the sides of triangle from user should be defined in the parent\n",
    "##class and function to calculate the area should be defined in subclass.\n",
    "import math\n",
    "class Length_of_triangle:\n",
    "    \"\"\"A class defining area of triangle\"\"\"\n",
    "    def __init__(self, a, b, c):\n",
    "        self.a = float(input(f\"\\nplease enter the side {a}: \"))\n",
    "        self.b = float(input(f\"please enter the side {b}: \"))\n",
    "        self.c = float(input(f\"please enter the side {c}: \"))\n",
    "        \n",
    "class Area_of_Triangle(Length_of_triangle):\n",
    "    def __init__(self, a, b, c):\n",
    "        super().__init__(a, b, c)\n",
    "    \n",
    "    def formula(self):\n",
    "        s = (self.a+self.b+self.c) * 0.5\n",
    "        Area = math.sqrt((s*(s-self.a)*(s-self.b)*(s-self.c)))\n",
    "        print(\"\\nIn sqaured-cm, the area of the triangle is %0.2f\" %Area)\n",
    "        \n",
    "area_3angle1 = Area_of_Triangle('a', 'b', 'c')\n",
    "area_3angle2 = Area_of_Triangle('a', 'b', 'c')\n",
    "area_3angle1.formula()\n",
    "area_3angle2.formula()"
   ]
  },
  {
   "cell_type": "code",
   "execution_count": 2,
   "metadata": {},
   "outputs": [
    {
     "data": {
      "text/plain": [
       "[' tithes']"
      ]
     },
     "execution_count": 2,
     "metadata": {},
     "output_type": "execute_result"
    }
   ],
   "source": [
    "1.2\n",
    "##Write a function filter_long_words() that takes a list of words \n",
    "##and an integer n and returns the list of words that are longer than n.\n",
    "def filter_long_word(list_of_words, n):\n",
    "    \"\"\"Returns words that are longer than n\"\"\"\n",
    "    longer = []\n",
    "    for i in list_of_words:\n",
    "        if len(i) > n:\n",
    "            longer.append(i)\n",
    "    return longer\n",
    "\n",
    "list_of_words = ['fire','sider', ' tithes','boy', 'sudh', 'kumar']\n",
    "filter_long_word(list_of_words, n=5)"
   ]
  },
  {
   "cell_type": "markdown",
   "metadata": {},
   "source": [
    "## Task 2"
   ]
  },
  {
   "cell_type": "code",
   "execution_count": 3,
   "metadata": {},
   "outputs": [
    {
     "name": "stdout",
     "output_type": "stream",
     "text": [
      "[3, 4, 6, 8, 7]\n"
     ]
    }
   ],
   "source": [
    "##2.1\n",
    "#Write a Python program using function concept that maps list of words into a \n",
    "#list of integers representing the lengths of the corresponding words\n",
    "def word_length(list_word):\n",
    "    \"\"\"Display length of word\"\"\"\n",
    "    length_of_words = []\n",
    "    for i in list_word:\n",
    "        length_of_words.append(len(i))\n",
    "    return length_of_words\n",
    "        \n",
    "list_word = ['ade', 'wale', 'yemisi', 'adeoluwa', 'adewale']\n",
    "print(word_length(list_word))"
   ]
  },
  {
   "cell_type": "code",
   "execution_count": 4,
   "metadata": {},
   "outputs": [
    {
     "data": {
      "text/plain": [
       "True"
      ]
     },
     "execution_count": 4,
     "metadata": {},
     "output_type": "execute_result"
    }
   ],
   "source": [
    "##2.2\n",
    "##Write a Python function which takes a character (i.e. a string of length 1) and returns True if it is\n",
    "##a vowel, False otherwise.\n",
    "def true_false(character):\n",
    "    \"\"\"Returns true or false\"\"\"\n",
    "    for i in character:\n",
    "        if i == 'a' or i == 'e' or i == 'i'or i ==  'o' or i == 'u':\n",
    "            return True\n",
    "        else:\n",
    "            return False\n",
    "\n",
    "true_false(character='u')"
   ]
  }
 ],
 "metadata": {
  "kernelspec": {
   "display_name": "Python 3",
   "language": "python",
   "name": "python3"
  },
  "language_info": {
   "codemirror_mode": {
    "name": "ipython",
    "version": 3
   },
   "file_extension": ".py",
   "mimetype": "text/x-python",
   "name": "python",
   "nbconvert_exporter": "python",
   "pygments_lexer": "ipython3",
   "version": "3.7.6"
  }
 },
 "nbformat": 4,
 "nbformat_minor": 4
}
