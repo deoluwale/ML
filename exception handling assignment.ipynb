{
 "cells": [
  {
   "cell_type": "markdown",
   "metadata": {},
   "source": [
    "Exception handling Assignment"
   ]
  },
  {
   "cell_type": "code",
   "execution_count": 6,
   "metadata": {},
   "outputs": [
    {
     "name": "stdout",
     "output_type": "stream",
     "text": [
      "You can't divide by zero! Try a non-zero value.\n"
     ]
    }
   ],
   "source": [
    "##1\n",
    "##Write a function to compute 5/0 and use try/except to catch the exceptions.\n",
    "def zero_division(numerator=5, denominator=0):\n",
    "    \"\"\"A function that computes 5 divided by 0\"\"\"\n",
    "    try:                                    ##wrap in try-exeption-else block\n",
    "        result = numerator/denominator\n",
    "        return result\n",
    "    except ZeroDivisionError:\n",
    "        print(\"You can't divide by zero! Try a non-zero value.\")\n",
    "    else:\n",
    "        print(f\"Your task is complete\")\n",
    "\n",
    "zero_division()                            ##Call the zero_division function\n",
    "    "
   ]
  },
  {
   "cell_type": "code",
   "execution_count": 9,
   "metadata": {},
   "outputs": [
    {
     "name": "stdout",
     "output_type": "stream",
     "text": [
      "Americans  play Baseball\n",
      "Americans  play Cricket\n",
      "Americans  watch Baseball\n",
      "Americans  watch Cricket\n",
      "Indians play Baseball\n",
      "Indians play Cricket\n",
      "Indians watch Baseball\n",
      "Indians watch Cricket\n"
     ]
    }
   ],
   "source": [
    "##Implement a Python program to generate all sentences where subject is in\n",
    "##[\"Americans\", \"Indians\"] and verb is in [\"Play\", \"watch\"] and the object is in\n",
    "##[\"Baseball\",\"cricket\"].\n",
    "\n",
    "subjects,verbs,objects = [\"Americans \",\"Indians\"], [\"play\",\"watch\"], [\"Baseball\",\"Cricket\"]\n",
    "\n",
    "##write a for loop to iterate over each variable\n",
    "for i in subjects:\n",
    "    for j in verbs:\n",
    "        for k in objects:\n",
    "            print(f\"{i} {j} {k}\")"
   ]
  }
 ],
 "metadata": {
  "kernelspec": {
   "display_name": "Python 3",
   "language": "python",
   "name": "python3"
  },
  "language_info": {
   "codemirror_mode": {
    "name": "ipython",
    "version": 3
   },
   "file_extension": ".py",
   "mimetype": "text/x-python",
   "name": "python",
   "nbconvert_exporter": "python",
   "pygments_lexer": "ipython3",
   "version": "3.7.6"
  }
 },
 "nbformat": 4,
 "nbformat_minor": 4
}
