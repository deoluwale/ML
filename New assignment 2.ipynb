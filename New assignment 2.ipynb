{
 "cells": [
  {
   "cell_type": "markdown",
   "metadata": {},
   "source": [
    "## Assignment 2"
   ]
  },
  {
   "cell_type": "code",
   "execution_count": null,
   "metadata": {},
   "outputs": [],
   "source": [
    "##1\n",
    "##Create the below pattern using nested for loop in Python.\n",
    "pattern = \"*\"\n",
    "for i in range(0,6):\n",
    "    if i < 6:\n",
    "        i = pattern * i\n",
    "        print(i)\n",
    "for j in range (4,0,-1):\n",
    "    j = pattern * j\n",
    "    print(j)   "
   ]
  },
  {
   "cell_type": "code",
   "execution_count": null,
   "metadata": {},
   "outputs": [],
   "source": [
    "## 2\n",
    "# Write a Python program to reverse a word after accepting the input from the user.\n",
    "prompt = (\"mention a city you traveled to last summer?:\")\n",
    "city = input(prompt)\n",
    "city[::-1]"
   ]
  }
 ],
 "metadata": {
  "kernelspec": {
   "display_name": "Python 3",
   "language": "python",
   "name": "python3"
  },
  "language_info": {
   "codemirror_mode": {
    "name": "ipython",
    "version": 3
   },
   "file_extension": ".py",
   "mimetype": "text/x-python",
   "name": "python",
   "nbconvert_exporter": "python",
   "pygments_lexer": "ipython3",
   "version": "3.7.6"
  }
 },
 "nbformat": 4,
 "nbformat_minor": 4
}
