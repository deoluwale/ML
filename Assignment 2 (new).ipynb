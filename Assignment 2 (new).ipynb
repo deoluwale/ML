{
 "cells": [
  {
   "cell_type": "markdown",
   "metadata": {},
   "source": [
    "\n",
    "# Assignment 2"
   ]
  },
  {
   "cell_type": "markdown",
   "metadata": {},
   "source": [
    "# Task 1"
   ]
  },
  {
   "cell_type": "code",
   "execution_count": 65,
   "metadata": {},
   "outputs": [
    {
     "data": {
      "text/plain": [
       "57"
      ]
     },
     "execution_count": 65,
     "metadata": {},
     "output_type": "execute_result"
    }
   ],
   "source": [
    "##1.1\n",
    "##Write a Python Program to implement your own myreduce() function which works exactly like\n",
    "##Python's built-in function reduce()\n",
    "def my_reduce(function, sequence):\n",
    "    \"\"\"a function working as the python in-built reduce function\"\"\"\n",
    "    start = sequence[0]  ##take the first element in the sequence\n",
    "    for i in sequence[1:]:          ## iterate over the remainder of the elements in the sequence\n",
    "        start = function(start, i)\n",
    "    return start                    ##now we return the start \n",
    "\n",
    "sequence = [2,3,4,5,6,7,10,20]\n",
    "my_reduce(lambda x,y:x+y, sequence)"
   ]
  },
  {
   "cell_type": "code",
   "execution_count": 66,
   "metadata": {},
   "outputs": [
    {
     "name": "stdout",
     "output_type": "stream",
     "text": [
      "2\n",
      "4\n",
      "6\n",
      "8\n",
      "10\n",
      "12\n",
      "14\n"
     ]
    }
   ],
   "source": [
    "##1.2\n",
    "# list of alphabets\n",
    "# function that filters vowels\n",
    "def filter_even(number):\n",
    "        if number % 2 == 0:\n",
    "            return True\n",
    "        else:\n",
    "            return False\n",
    "##Write a Python program to implement your own myfilter() function which works exactly like\n",
    "##Python's built-in function filter()\n",
    "def my_filter(function, sequence):\n",
    "    \"\"\"a function working as the python in-built reduce function\"\"\"\n",
    "    for i in sequence:\n",
    "        if function(i) == True:\n",
    "            print (i)\n",
    "\n",
    "numbers = [2,3,4,5,6,7,8,9,10,11,12,13,14,15,101]        \n",
    "my_filter(filter_even,numbers)"
   ]
  },
  {
   "cell_type": "code",
   "execution_count": 67,
   "metadata": {},
   "outputs": [
    {
     "name": "stdout",
     "output_type": "stream",
     "text": [
      "['x', 'xx', 'xxx', 'xxxx', 'y', 'yy', 'yyy', 'yyyy', 'z', 'zz', 'zzz', 'zzzz']\n",
      "['x', 'y', 'z', 'xx', 'yy', 'zz', 'xxx', 'yyy', 'zzz', 'xxxx', 'yyyy', 'zzzz']\n",
      "[[2], [3], [4], [3], [4], [5], [4], [5], [6]]\n",
      "[[2, 3, 4, 5], [3, 4, 5, 6], [4, 5, 6, 7], [5, 6, 7, 8]]\n",
      "[(1, 1), (2, 1), (3, 1), (1, 2), (2, 2), (3, 2), (1, 3), (2, 3), (3, 3)]\n"
     ]
    }
   ],
   "source": [
    "##2\n",
    "##Implement List comprehensions to produce the following lists. \n",
    "##Write List comprehensions to produce the following Lists \n",
    "xyz_1 = [ i*j for i in ['x','y','z'] for j in range(1,5)]\n",
    "print(xyz_1)\n",
    "xyz_2 = [ j*i for i in range(1,5) for j in ['x','y','z']]\n",
    "print(xyz_2)\n",
    "magic_list1 = [[i+j] for i in [2,3,4] for j in range(0,3)]\n",
    "print(magic_list1)\n",
    "magic_list2 = [[i+j for i in range(0,4)] for j in [2,3,4,5]]\n",
    "print(magic_list2)\n",
    "magic_list3 = [(j,i) for i in (1,2,3) for j in (1,2,3)]\n",
    "print(magic_list3)"
   ]
  },
  {
   "cell_type": "code",
   "execution_count": 68,
   "metadata": {},
   "outputs": [
    {
     "name": "stdout",
     "output_type": "stream",
     "text": [
      "chemotherapy\n"
     ]
    }
   ],
   "source": [
    "#3\n",
    "#Implement a function longestWord() that takes a list of words and returns the longest one.\n",
    "## define a function\n",
    "def longest_word(list_word):\n",
    "    \"\"\"Returns longest word\"\"\"\n",
    "    longest = list_word[0]\n",
    "    for word in list_word:\n",
    "        if len(longest)<len(word):\n",
    "            longest = word\n",
    "    return longest\n",
    "\n",
    "list_word = ['ade', 'geography','wale', 'yemisi', 'adeolu', 'chemotherapy'] \n",
    "print(longest_word(list_word))"
   ]
  },
  {
   "cell_type": "markdown",
   "metadata": {},
   "source": [
    "# Task 2"
   ]
  },
  {
   "cell_type": "code",
   "execution_count": 1,
   "metadata": {},
   "outputs": [
    {
     "name": "stdout",
     "output_type": "stream",
     "text": [
      "\n",
      "please enter the side a: 4\n",
      "please enter the side b: 5\n",
      "please enter the side c: 6\n",
      "\n",
      "please enter the side a: 6\n",
      "please enter the side b: 7\n",
      "please enter the side c: 8\n",
      "\n",
      "In sqaured-cm, the area of the triangle is 9.92\n",
      "\n",
      "In sqaured-cm, the area of the triangle is 20.33\n"
     ]
    }
   ],
   "source": [
    "##1.1\n",
    "##Write a Python Program(with class concepts) to find the area of the triangle using the below formula.\n",
    "##area = (s*(s-a)*(s-b)*(s-c)) ** 0.5\n",
    "##Function to take the length of the sides of triangle from user should be defined in the parent\n",
    "##class and function to calculate the area should be defined in subclass.\n",
    "import math\n",
    "class Length_of_triangle:\n",
    "    \"\"\"A class defining area of triangle\"\"\"\n",
    "    def __init__(self, a, b, c):\n",
    "        self.a = float(input(f\"\\nplease enter the side {a}: \"))\n",
    "        self.b = float(input(f\"please enter the side {b}: \"))\n",
    "        self.c = float(input(f\"please enter the side {c}: \"))\n",
    "        \n",
    "class Area_of_Triangle(Length_of_triangle):\n",
    "    def __init__(self, a, b, c):\n",
    "        super().__init__(a, b, c)\n",
    "    \n",
    "    def formula(self):\n",
    "        s = (self.a+self.b+self.c) * 0.5\n",
    "        Area = math.sqrt((s*(s-self.a)*(s-self.b)*(s-self.c)))\n",
    "        print(\"\\nIn sqaured-cm, the area of the triangle is %0.2f\" %Area)\n",
    "        \n",
    "area_3angle1 = Area_of_Triangle('a', 'b', 'c')\n",
    "area_3angle2 = Area_of_Triangle('a', 'b', 'c')\n",
    "area_3angle1.formula()\n",
    "area_3angle2.formula()"
   ]
  },
  {
   "cell_type": "code",
   "execution_count": 2,
   "metadata": {},
   "outputs": [
    {
     "data": {
      "text/plain": [
       "[' tithes']"
      ]
     },
     "execution_count": 2,
     "metadata": {},
     "output_type": "execute_result"
    }
   ],
   "source": [
    "1.2\n",
    "##Write a function filter_long_words() that takes a list of words \n",
    "##and an integer n and returns the list of words that are longer than n.\n",
    "def filter_long_word(list_of_words, n):\n",
    "    \"\"\"Returns words that are longer than n\"\"\"\n",
    "    longer = []\n",
    "    for i in list_of_words:\n",
    "        if len(i) > n:\n",
    "            longer.append(i)\n",
    "    return longer\n",
    "\n",
    "list_of_words = ['fire','sider', ' tithes','boy', 'sudh', 'kumar']\n",
    "filter_long_word(list_of_words, n=5)"
   ]
  },
  {
   "cell_type": "code",
   "execution_count": 3,
   "metadata": {},
   "outputs": [
    {
     "name": "stdout",
     "output_type": "stream",
     "text": [
      "[3, 4, 6, 8, 7]\n"
     ]
    }
   ],
   "source": [
    "##2.1\n",
    "#Write a Python program using function concept that maps list of words into a \n",
    "#list of integers representing the lengths of the corresponding words\n",
    "def word_length(list_word):\n",
    "    \"\"\"Display length of word\"\"\"\n",
    "    length_of_words = []\n",
    "    for i in list_word:\n",
    "        length_of_words.append(len(i))\n",
    "    return length_of_words\n",
    "        \n",
    "list_word = ['ade', 'wale', 'yemisi', 'adeoluwa', 'adewale']\n",
    "print(word_length(list_word))"
   ]
  },
  {
   "cell_type": "code",
   "execution_count": 4,
   "metadata": {},
   "outputs": [
    {
     "data": {
      "text/plain": [
       "True"
      ]
     },
     "execution_count": 4,
     "metadata": {},
     "output_type": "execute_result"
    }
   ],
   "source": [
    "##2.2\n",
    "##Write a Python function which takes a character (i.e. a string of length 1) and returns True if it is\n",
    "##a vowel, False otherwise.\n",
    "def true_false(character):\n",
    "    \"\"\"Returns true or false\"\"\"\n",
    "    for i in character:\n",
    "        if i == 'a' or i == 'e' or i == 'i'or i ==  'o' or i == 'u':\n",
    "            return True\n",
    "        else:\n",
    "            return False\n",
    "\n",
    "true_false(character='u')"
   ]
  }
 ],
 "metadata": {
  "kernelspec": {
   "display_name": "Python 3",
   "language": "python",
   "name": "python3"
  },
  "language_info": {
   "codemirror_mode": {
    "name": "ipython",
    "version": 3
   },
   "file_extension": ".py",
   "mimetype": "text/x-python",
   "name": "python",
   "nbconvert_exporter": "python",
   "pygments_lexer": "ipython3",
   "version": "3.7.6"
  }
 },
 "nbformat": 4,
 "nbformat_minor": 4
}
